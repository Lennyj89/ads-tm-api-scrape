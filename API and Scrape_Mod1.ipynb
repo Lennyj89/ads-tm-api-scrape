{
 "cells": [
  {
   "cell_type": "markdown",
   "id": "95952cac",
   "metadata": {},
   "source": [
    "# ADS 509 Module 1: APIs and Web Scraping\n",
    "\n",
    "This notebook has three parts. In the first part you will pull data from the Twitter API. In the second, you will scrape lyrics from AZLyrics.com. In the last part, you'll run code that verifies the completeness of your data pull. \n",
    "\n",
    "For this assignment you have chosen two musical artists who have at least 100,000 Twitter followers and 20 songs with lyrics on AZLyrics.com. In this part of the assignment we pull the some of the user information for the followers of your artist and store them in text files. \n"
   ]
  },
  {
   "cell_type": "markdown",
   "id": "069b7ae8",
   "metadata": {},
   "source": [
    "## General Assignment Instructions\n",
    "\n",
    "These instructions are included in every assignment, to remind you of the coding standards for the class. Feel free to delete this cell after reading it. \n",
    "\n",
    "One sign of mature code is conforming to a style guide. We recommend the [Google Python Style Guide](https://google.github.io/styleguide/pyguide.html). If you use a different style guide, please include a cell with a link. \n",
    "\n",
    "Your code should be relatively easy-to-read, sensibly commented, and clean. Writing code is a messy process, so please be sure to edit your final submission. Remove any cells that are not needed or parts of cells that contain unnecessary code. Remove inessential `import` statements and make sure that all such statements are moved into the designated cell. \n",
    "\n",
    "Make use of non-code cells for written commentary. These cells should be grammatical and clearly written. In some of these cells you will have questions to answer. The questions will be marked by a \"Q:\" and will have a corresponding \"A:\" spot for you. *Make sure to answer every question marked with a `Q:` for full credit.* \n"
   ]
  },
  {
   "cell_type": "markdown",
   "id": "91c8969e",
   "metadata": {},
   "source": [
    "# Twitter API Pull"
   ]
  },
  {
   "cell_type": "code",
   "execution_count": 239,
   "id": "185076b0",
   "metadata": {},
   "outputs": [],
   "source": [
    "# for the twitter section\n",
    "import tweepy\n",
    "import os\n",
    "import datetime\n",
    "import re\n",
    "from pprint import pprint\n",
    "\n",
    "# for the lyrics scrape section\n",
    "import requests\n",
    "import time\n",
    "from bs4 import BeautifulSoup\n",
    "from collections import defaultdict, Counter\n"
   ]
  },
  {
   "cell_type": "code",
   "execution_count": 240,
   "id": "a47e2d5f",
   "metadata": {},
   "outputs": [],
   "source": [
    "# Use this cell for any import statements you add\n",
    "#!pip install pandas\n",
    "import pandas as pd\n",
    "import numpy as np\n",
    "import csv\n",
    "import random\n",
    "import re"
   ]
  },
  {
   "cell_type": "markdown",
   "id": "c21c86ec",
   "metadata": {},
   "source": [
    "We need bring in our API keys. Since API keys should be kept secret, we'll keep them in a file called `api_keys.py`. This file should be stored in the directory where you store this notebook. The example file is provided for you on Blackboard. The example has API keys that are _not_ functional, so you'll need to get Twitter credentials and replace the placeholder keys. "
   ]
  },
  {
   "cell_type": "code",
   "execution_count": 241,
   "id": "f01bdec6",
   "metadata": {},
   "outputs": [],
   "source": [
    "from api_keys import api_key, api_key_secret, access_token, access_token_secret "
   ]
  },
  {
   "cell_type": "code",
   "execution_count": 242,
   "id": "e0c251d2",
   "metadata": {},
   "outputs": [
    {
     "name": "stdout",
     "output_type": "stream",
     "text": [
      "API Host api.twitter.com\n"
     ]
    }
   ],
   "source": [
    "auth = tweepy.AppAuthHandler(api_key, api_key_secret)\n",
    "api = tweepy.API(auth,wait_on_rate_limit=True) # removed the following line ,wait_on_rate_limit_notify=True\n",
    "\n",
    "print ('API Host', api.host)\n",
    "# No longer valid - print ('API Version', api.api_root)"
   ]
  },
  {
   "cell_type": "markdown",
   "id": "6aa67032",
   "metadata": {},
   "source": [
    "## Testing the API\n",
    "\n",
    "The Twitter APIs are quite rich. Let's play around with some of the features before we dive into this section of the assignment. For our testing, it's convenient to have a small data set to play with. We will seed the code with the handle of John Chandler, one of the instructors in this course. His handle is `@37chandler`. Feel free to use a different handle if you would like to look at someone else's data. \n",
    "\n",
    "We will write code to explore a few aspects of the API: \n",
    "\n",
    "1. Pull all the follower IDs for @katymck.\n",
    "1. Explore the user object, which gives us information about Twitter users. \n",
    "1. Pull some user objects for the followers. \n",
    "1. Pull the last few tweets by @katymck.\n"
   ]
  },
  {
   "cell_type": "code",
   "execution_count": 28,
   "id": "56fb2673",
   "metadata": {},
   "outputs": [
    {
     "name": "stdout",
     "output_type": "stream",
     "text": [
      "Here are the first five follower ids for Lennyj89 out of the 58 total.\n"
     ]
    },
    {
     "data": {
      "text/plain": [
       "[338089514,\n",
       " 1124100202934284289,\n",
       " 1083552502400933888,\n",
       " 619587455,\n",
       " 937826228211470336]"
      ]
     },
     "execution_count": 28,
     "metadata": {},
     "output_type": "execute_result"
    }
   ],
   "source": [
    "handle = \"Lennyj89\"\n",
    "\n",
    "followers = []\n",
    "\n",
    "for page in tweepy.Cursor(api.get_follower_ids,\n",
    "                          # This is how we will get around the issue of not being able to grab all ids at once\n",
    "                          # Once the rate limit is hit, we will be  that we must wait 15 mins (900 secs)\n",
    "                          #wait_on_rate_limit=True, \n",
    "                          #wait_on_rate_limit_notify=True, \n",
    "                          #compression=True,\n",
    "                          screen_name=handle).pages():\n",
    "\n",
    "    # The page variable comes back as a list, so we have to use .extend rather than .append\n",
    "    followers.extend(page)\n",
    "        \n",
    "        \n",
    "print(f\"Here are the first five follower ids for {handle} out of the {len(followers)} total.\")\n",
    "followers[:5]"
   ]
  },
  {
   "cell_type": "markdown",
   "id": "2dad0a3f",
   "metadata": {},
   "source": [
    "We have the follower IDs, which are unique numbers identifying the user, but we'd like to get some more information on these users. Twitter allows us to pull \"fully hydrated user objects\", which is a fancy way of saying \"all the information about the user\". Let's look at user object for our starting handle."
   ]
  },
  {
   "cell_type": "code",
   "execution_count": 10,
   "id": "e1ae5e35",
   "metadata": {},
   "outputs": [
    {
     "name": "stdout",
     "output_type": "stream",
     "text": [
      "{'contributors_enabled': False,\n",
      " 'created_at': 'Fri Feb 11 07:37:40 +0000 2011',\n",
      " 'default_profile': True,\n",
      " 'default_profile_image': False,\n",
      " 'description': '',\n",
      " 'entities': {'description': {'urls': []}},\n",
      " 'favourites_count': 31,\n",
      " 'follow_request_sent': None,\n",
      " 'followers_count': 58,\n",
      " 'following': None,\n",
      " 'friends_count': 220,\n",
      " 'geo_enabled': False,\n",
      " 'has_extended_profile': False,\n",
      " 'id': 250520140,\n",
      " 'id_str': '250520140',\n",
      " 'is_translation_enabled': False,\n",
      " 'is_translator': False,\n",
      " 'lang': None,\n",
      " 'listed_count': 0,\n",
      " 'location': 'Mount Sterling, KY',\n",
      " 'name': 'Leonard Littleton',\n",
      " 'notifications': None,\n",
      " 'profile_background_color': 'C0DEED',\n",
      " 'profile_background_image_url': 'http://abs.twimg.com/images/themes/theme1/bg.png',\n",
      " 'profile_background_image_url_https': 'https://abs.twimg.com/images/themes/theme1/bg.png',\n",
      " 'profile_background_tile': False,\n",
      " 'profile_image_url': 'http://pbs.twimg.com/profile_images/1241004104/IMG_0107_normal.JPG',\n",
      " 'profile_image_url_https': 'https://pbs.twimg.com/profile_images/1241004104/IMG_0107_normal.JPG',\n",
      " 'profile_link_color': '1DA1F2',\n",
      " 'profile_location': None,\n",
      " 'profile_sidebar_border_color': 'C0DEED',\n",
      " 'profile_sidebar_fill_color': 'DDEEF6',\n",
      " 'profile_text_color': '333333',\n",
      " 'profile_use_background_image': True,\n",
      " 'protected': False,\n",
      " 'screen_name': 'lennyj89',\n",
      " 'status': {'contributors': None,\n",
      "            'coordinates': None,\n",
      "            'created_at': 'Fri Jul 09 21:42:26 +0000 2021',\n",
      "            'entities': {'hashtags': [{'indices': [88, 104],\n",
      "                                       'text': 'SwitchToSleeper'}],\n",
      "                         'symbols': [],\n",
      "                         'urls': [],\n",
      "                         'user_mentions': [{'id': 27098695,\n",
      "                                            'id_str': '27098695',\n",
      "                                            'indices': [3, 13],\n",
      "                                            'name': 'Sleeper',\n",
      "                                            'screen_name': 'SleeperHQ'}]},\n",
      "            'favorite_count': 0,\n",
      "            'favorited': False,\n",
      "            'geo': None,\n",
      "            'id': 1413614546992893957,\n",
      "            'id_str': '1413614546992893957',\n",
      "            'in_reply_to_screen_name': None,\n",
      "            'in_reply_to_status_id': None,\n",
      "            'in_reply_to_status_id_str': None,\n",
      "            'in_reply_to_user_id': None,\n",
      "            'in_reply_to_user_id_str': None,\n",
      "            'is_quote_status': False,\n",
      "            'lang': 'en',\n",
      "            'place': None,\n",
      "            'retweet_count': 419,\n",
      "            'retweeted': False,\n",
      "            'retweeted_status': {'contributors': None,\n",
      "                                 'coordinates': None,\n",
      "                                 'created_at': 'Fri Jul 09 14:55:10 +0000 2021',\n",
      "                                 'entities': {'hashtags': [{'indices': [73, 89],\n",
      "                                                            'text': 'SwitchToSleeper'}],\n",
      "                                              'symbols': [],\n",
      "                                              'urls': [{'display_url': 'twitter.com/i/web/status/1…',\n",
      "                                                        'expanded_url': 'https://twitter.com/i/web/status/1413512055580098571',\n",
      "                                                        'indices': [116, 139],\n",
      "                                                        'url': 'https://t.co/fshHOlgllF'}],\n",
      "                                              'user_mentions': []},\n",
      "                                 'favorite_count': 582,\n",
      "                                 'favorited': False,\n",
      "                                 'geo': None,\n",
      "                                 'id': 1413512055580098571,\n",
      "                                 'id_str': '1413512055580098571',\n",
      "                                 'in_reply_to_screen_name': None,\n",
      "                                 'in_reply_to_status_id': None,\n",
      "                                 'in_reply_to_status_id_str': None,\n",
      "                                 'in_reply_to_user_id': None,\n",
      "                                 'in_reply_to_user_id_str': None,\n",
      "                                 'is_quote_status': False,\n",
      "                                 'lang': 'en',\n",
      "                                 'place': None,\n",
      "                                 'retweet_count': 419,\n",
      "                                 'retweeted': False,\n",
      "                                 'source': '<a '\n",
      "                                           'href=\"https://mobile.twitter.com\" '\n",
      "                                           'rel=\"nofollow\">Twitter Web App</a>',\n",
      "                                 'text': 'Switch your league to Sleeper and '\n",
      "                                         'we’ll pay part of your league dues '\n",
      "                                         '💰💰💰 #SwitchToSleeper\\n'\n",
      "                                         '\\n'\n",
      "                                         '1. retweet and Like for… '\n",
      "                                         'https://t.co/fshHOlgllF',\n",
      "                                 'truncated': True},\n",
      "            'source': '<a href=\"https://mobile.twitter.com\" '\n",
      "                      'rel=\"nofollow\">Twitter Web App</a>',\n",
      "            'text': 'RT @SleeperHQ: Switch your league to Sleeper and we’ll '\n",
      "                    'pay part of your league dues 💰💰💰 #SwitchToSleeper\\n'\n",
      "                    '\\n'\n",
      "                    '1. retweet and Like for eligibili…',\n",
      "            'truncated': False},\n",
      " 'statuses_count': 26,\n",
      " 'time_zone': None,\n",
      " 'translator_type': 'none',\n",
      " 'url': None,\n",
      " 'utc_offset': None,\n",
      " 'verified': False,\n",
      " 'withheld_in_countries': []}\n"
     ]
    }
   ],
   "source": [
    "user = api.get_user(screen_name=handle) \n",
    "pprint(user._json)"
   ]
  },
  {
   "cell_type": "markdown",
   "id": "6abc5dc6",
   "metadata": {},
   "source": [
    "Now a few questions for you about the user object.\n",
    "\n",
    "Q: How many fields are being returned in the \\_json portion of the user object? \n",
    "\n",
    "A: <!-- Put your answer here --> It seems 44 fields are being returned in the user object.\n",
    "\n",
    "---\n",
    "\n",
    "Q: Are any of the fields within the user object non-scaler? TK correct term\n",
    "\n",
    "A: <!-- Put your answer here --> Yes.  The status field seems to be a non-scalar object.\n",
    "\n",
    "---\n",
    "\n",
    "Q: How many friends, followers, favorites, and statuses does this user have? \n",
    "\n",
    "A: <!-- Put your answer here --> This user has 220 friends, 58 followers, 31 favorites and 26 statuses.\n"
   ]
  },
  {
   "cell_type": "markdown",
   "id": "10fbadc0",
   "metadata": {},
   "source": [
    "We can map the follower IDs onto screen names by accessing the screen_name key within the user object. Modify the code below to also print out how many people the follower is following and how many followers they have. "
   ]
  },
  {
   "cell_type": "code",
   "execution_count": 29,
   "id": "6447c3ae",
   "metadata": {},
   "outputs": [
    {
     "name": "stdout",
     "output_type": "stream",
     "text": [
      "Lennyj89 is followed by Doteocinco\n",
      "Doteocinco is followed by 132 follower(s) and following 296 people.\n",
      "Lennyj89 is followed by acoldiron0\n",
      "acoldiron0 is followed by 5 follower(s) and following 14 people.\n",
      "Lennyj89 is followed by Crump48864926\n",
      "Crump48864926 is followed by 4 follower(s) and following 59 people.\n",
      "Lennyj89 is followed by BrittKnap\n",
      "BrittKnap is followed by 86 follower(s) and following 281 people.\n",
      "Lennyj89 is followed by CadyPerdue\n",
      "CadyPerdue is followed by 8 follower(s) and following 86 people.\n",
      "Lennyj89 is followed by yesmulu\n",
      "yesmulu is followed by 40 follower(s) and following 853 people.\n",
      "Lennyj89 is followed by muluyes\n",
      "muluyes is followed by 323 follower(s) and following 3860 people.\n",
      "Lennyj89 is followed by GeorgeTThompso1\n",
      "GeorgeTThompso1 is followed by 417 follower(s) and following 1584 people.\n",
      "Lennyj89 is followed by Hmohamed619\n",
      "Hmohamed619 is followed by 5 follower(s) and following 18 people.\n",
      "Lennyj89 is followed by dewey_copley\n",
      "dewey_copley is followed by 288 follower(s) and following 522 people.\n"
     ]
    }
   ],
   "source": [
    "ids_to_lookup = followers[:10]\n",
    "\n",
    "for user_obj in api.lookup_users(user_id=ids_to_lookup) :\n",
    "    print(f\"{handle} is followed by {user_obj.screen_name}\")\n",
    "    \n",
    "    # Add code here to print out friends and followers of `handle`\n",
    "    print(f\"{user_obj.screen_name} is followed by {user_obj.followers_count} follower(s) and following {user_obj.friends_count} people.\")\n"
   ]
  },
  {
   "cell_type": "markdown",
   "id": "d8564d2c",
   "metadata": {},
   "source": [
    "Although you won't need it for this assignment, individual tweets (called \"statuses\" in the API) can be a rich source of text-based data. To illustrate the concepts, let's look at the last few tweets for this user. You are encouraged to explore the `status` object and marvel in the richness of the data that is available. \n"
   ]
  },
  {
   "cell_type": "code",
   "execution_count": 21,
   "id": "a9fb5c4d",
   "metadata": {},
   "outputs": [
    {
     "name": "stderr",
     "output_type": "stream",
     "text": [
      "Unexpected parameter: id\n"
     ]
    },
    {
     "name": "stdout",
     "output_type": "stream",
     "text": [
      "The tweet was tweeted at 2021-07-09 21:42:26+00:00.\n",
      "The original tweet has been retweeted 419 times.\n",
      "RT @SleeperHQ: Switch your league to Sleeper and we’ll pay part of your league dues 💰💰💰 #SwitchToSleeper  1. retweet and Like for eligibili…\n",
      "\n",
      "\n",
      "\n",
      "The tweet was tweeted at 2018-12-17 19:11:29+00:00.\n",
      "The original tweet has been retweeted 0 times.\n",
      "@MarkIngram22 @wil_lutz5 Need a combined 45 fantasy points from you guys tonight! Help a bro out??\n",
      "\n",
      "\n",
      "\n",
      "The tweet was tweeted at 2018-12-06 14:05:01+00:00.\n",
      "The original tweet has been retweeted 0 times.\n",
      "@MikeTagliereNFL @bobbyfantasypro Guys, need some help with start/sit.  Need 3 of 5.  M. Ingram, J. Mixon, S. Miche… https://t.co/6npGRy0ogy\n",
      "\n",
      "\n",
      "\n",
      "The tweet was tweeted at 2018-08-27 01:50:11+00:00.\n",
      "The original tweet has been retweeted 0 times.\n",
      "@MikeTagliereNFL @bobbyfantasypro My bench is r. freeman, m. Ingram, m. Lynch, s. Watkins, n. Agholor and d. Parker… https://t.co/equ5Le9ziE\n",
      "\n",
      "\n",
      "\n",
      "The tweet was tweeted at 2018-08-27 01:36:04+00:00.\n",
      "The original tweet has been retweeted 0 times.\n",
      "@bobbyfantasypro @MikeTagliereNFL Could you guys give some advice on later round draft strategies when in a smaller… https://t.co/kA61ilCrBm\n",
      "\n",
      "\n",
      "\n",
      "The tweet was tweeted at 2017-12-08 19:56:54+00:00.\n",
      "The original tweet has been retweeted 0 times.\n",
      "@rotobuzzguy Yeah, a friend and I were debating whether it was a sound strategy or a crappy thing to do...I was lea… https://t.co/qEoiW6zCuk\n",
      "\n",
      "\n",
      "\n",
      "The tweet was tweeted at 2017-12-08 17:50:42+00:00.\n",
      "The original tweet has been retweeted 0 times.\n",
      "@rotobuzzguy Thoughts on playoff teams benching their lineups in order to adjust playoff matchups? Is it an acceptable strategy?\n",
      "\n",
      "\n",
      "\n",
      "The tweet was tweeted at 2017-12-05 16:34:29+00:00.\n",
      "The original tweet has been retweeted 0 times.\n",
      "@rotobuzzguy Top WRs RBs available according to https://t.co/PU1HrevA3A https://t.co/At0a7h1JFt\n",
      "\n",
      "\n",
      "\n",
      "The tweet was tweeted at 2017-12-05 16:34:03+00:00.\n",
      "The original tweet has been retweeted 0 times.\n",
      "@rotobuzzguy Bench https://t.co/Q50oen1izW\n",
      "\n",
      "\n",
      "\n",
      "The tweet was tweeted at 2017-12-05 16:26:00+00:00.\n",
      "The original tweet has been retweeted 0 times.\n",
      "@rotobuzzguy I’m in #desperationmode.  Need a win to get in.  12-team standard.  Any of these pieces you’d consider… https://t.co/42AYU3Ubf1\n",
      "\n",
      "\n",
      "\n",
      "The tweet was tweeted at 2017-11-30 16:37:02+00:00.\n",
      "The original tweet has been retweeted 0 times.\n",
      "@MikeTagliereNFL Thoughts on Diggs if Trufant suits up?\n",
      "\n",
      "\n",
      "\n"
     ]
    }
   ],
   "source": [
    "tweet_count = 0\n",
    "\n",
    "for status in tweepy.Cursor(api.user_timeline, id=handle).items():\n",
    "    tweet_count += 1\n",
    "    \n",
    "    print(f\"The tweet was tweeted at {status.created_at}.\")\n",
    "    print(f\"The original tweet has been retweeted {status.retweet_count} times.\")\n",
    "    \n",
    "    clean_status = status.text\n",
    "    clean_status = clean_status.replace(\"\\n\",\" \")\n",
    "    \n",
    "    print(f\"{clean_status}\")\n",
    "    print(\"\\n\"*2)\n",
    "        \n",
    "    if tweet_count > 10 :\n",
    "        break\n",
    "\n"
   ]
  },
  {
   "cell_type": "markdown",
   "id": "66d50726",
   "metadata": {},
   "source": [
    "## Pulling Follower Information\n",
    "\n",
    "In this next section of the assignment, we will pull information about the followers of your two artists. We must first get the follower IDs, then we will be able to \"hydrate\" the IDs, pulling the user objects for them. Once we have those user objects we will extract some fields that we can use in future analyses. \n",
    "\n",
    "\n",
    "The Twitter API only allows users to make 15 requests per 15 minutes when pulling followers. Each request allows you to gather 5000 follower ids. Tweepy will grab the 15 requests quickly then wait 15 minutes, rather than slowly pull the requests over the time period. Before we start grabbing follower IDs, let's first just check how long it would take to pull all of the followers. To do this we use the `followers_count` item from the user object. "
   ]
  },
  {
   "cell_type": "code",
   "execution_count": 269,
   "id": "cfdc55ab",
   "metadata": {},
   "outputs": [
    {
     "name": "stdout",
     "output_type": "stream",
     "text": [
      "\n",
      "    @mtrench has 191564 followers. \n",
      "    That will take roughly 0.64 hours to pull the followers.\n",
      "    \n",
      "\n",
      "    @NateWantsToBtl has 185140 followers. \n",
      "    That will take roughly 0.62 hours to pull the followers.\n",
      "    \n"
     ]
    }
   ],
   "source": [
    "# I'm putting the handles in a list to iterate through below\n",
    "handles = ['mtrench','NateWantsToBtl']\n",
    "\n",
    "# This will iterate through each Twitter handle that we're collecting from\n",
    "for screen_name in handles:\n",
    "    \n",
    "    # Tells Tweepy we want information on the handle we're collecting from\n",
    "    # The next line specifies which information we want, which in this case is the number of followers \n",
    "    user = api.get_user(screen_name=screen_name) \n",
    "    followers_count = user.followers_count\n",
    "\n",
    "    # Let's see roughly how long it will take to grab all the follower IDs. \n",
    "    print(f'''\n",
    "    @{screen_name} has {followers_count} followers. \n",
    "    That will take roughly {followers_count/(5000*15*4):.2f} hours to pull the followers.\n",
    "    ''')\n",
    "    "
   ]
  },
  {
   "cell_type": "code",
   "execution_count": 286,
   "id": "1dd524a2",
   "metadata": {},
   "outputs": [],
   "source": [
    "basepath = 'C:\\\\Users\\\\lenny\\\\'"
   ]
  },
  {
   "cell_type": "markdown",
   "id": "0d5f3299",
   "metadata": {},
   "source": [
    "As we pull data for each artist we will write their data to a folder called \"twitter\", so we will make that folder if needed."
   ]
  },
  {
   "cell_type": "code",
   "execution_count": 7,
   "id": "e3a32641",
   "metadata": {},
   "outputs": [],
   "source": [
    "# Make the \"twitter\" folder here. If you'd like to practice your programming, add functionality \n",
    "# that checks to see if the folder exists. If it does, then \"unlink\" it. Then create a new one.\n",
    "\n",
    "if not os.path.isdir(\"twitter\") : \n",
    "    #shutil.rmtree(\"twitter/\")\n",
    "    os.mkdir(\"twitter\")"
   ]
  },
  {
   "cell_type": "markdown",
   "id": "dd58dd90",
   "metadata": {},
   "source": [
    "In this following cells, use the `api.followers_ids` (and the `tweepy.Cursor` functionality) to pull some of the followers for your two artists. As you pull the data, write the follower ids to a file called `[artist name]_followers.txt` in the \"twitter\" folder. For instance, for Cher I would create a file named `cher_followers.txt`. As you pull the data, also store it in an object like a list or a data frame."
   ]
  },
  {
   "cell_type": "code",
   "execution_count": 7,
   "id": "ad5d24ae",
   "metadata": {},
   "outputs": [],
   "source": [
    "num_followers_to_pull = 60*1000 # feel free to use this to limit the number of followers you pull."
   ]
  },
  {
   "cell_type": "code",
   "execution_count": 270,
   "id": "277d7c97",
   "metadata": {},
   "outputs": [],
   "source": [
    "#Set the root directory to the new twitter file created\n",
    "\n",
    "root=os.getcwd()\n",
    "directory='twitter'\n",
    "\n",
    "filepath=os.path.join(root, directory)"
   ]
  },
  {
   "cell_type": "code",
   "execution_count": 9,
   "id": "7ac06010",
   "metadata": {},
   "outputs": [
    {
     "name": "stderr",
     "output_type": "stream",
     "text": [
      "Rate limit reached. Sleeping for: 896\n",
      "Rate limit reached. Sleeping for: 896\n",
      "Rate limit reached. Sleeping for: 896\n",
      "Rate limit reached. Sleeping for: 895\n",
      "Rate limit reached. Sleeping for: 895\n"
     ]
    },
    {
     "name": "stdout",
     "output_type": "stream",
     "text": [
      "1:15:03.018775\n"
     ]
    }
   ],
   "source": [
    "# Modify the below code stub to pull the follower IDs and write them to a file. \n",
    "\n",
    "# Grabs the time when we start making requests to the API\n",
    "start_time = datetime.datetime.now()\n",
    "\n",
    "for handle in handles :\n",
    "    \n",
    "    output_file = handle + \"_followers.txt\"\n",
    "    \n",
    "    \n",
    "    # Pull and store the follower IDs\n",
    "    handle_followers = []\n",
    "    for page in tweepy.Cursor(api.get_follower_ids,\n",
    "                          screen_name=handle).pages():\n",
    "        handle_followers.extend(page)\n",
    "    \n",
    "    # Write the IDs to the output file in the `twitter` folder.\n",
    "    completeName=os.path.join(filepath, output_file)\n",
    "    f = open(completeName, \"a\")\n",
    "    for id in handle_followers[:-1]:\n",
    "        f.write(str(id)+'\\t')\n",
    "    f.write(str(handle_followers[-1]))\n",
    "    f.close()\n",
    "        \n",
    "    # If you've pulled num_followers_to_pull, feel free to break out paged twitter API response\n",
    "            \n",
    "        \n",
    "        \n",
    "# Let's see how long it took to grab all follower IDs\n",
    "end_time = datetime.datetime.now()\n",
    "print(end_time - start_time)\n",
    "\n"
   ]
  },
  {
   "cell_type": "code",
   "execution_count": 243,
   "id": "0e3addf9",
   "metadata": {},
   "outputs": [],
   "source": [
    "# Import data from the files to utilize the twitter ids\n",
    "mtFile=os.path.join(filepath, \"mtrench_followers.txt\")\n",
    "\n",
    "with open(mtFile) as mt_file:\n",
    "    reader = csv.reader(mt_file, delimiter=\"\\t\")\n",
    "    mt = list(reader)"
   ]
  },
  {
   "cell_type": "code",
   "execution_count": 244,
   "id": "a2e87791",
   "metadata": {},
   "outputs": [],
   "source": [
    "# Import data from the files to utilize the twitter ids\n",
    "nwtbFile=os.path.join(filepath, \"NateWantsToBtl_followers.txt\")\n",
    "\n",
    "with open(nwtbFile) as nwtb_file:\n",
    "    reader = csv.reader(nwtb_file, delimiter=\"\\t\")\n",
    "    nwtb = list(reader)"
   ]
  },
  {
   "cell_type": "markdown",
   "id": "b1b98e1d",
   "metadata": {},
   "source": [
    "Now that you have your follower ids, gather some information that we can use in future assignments on them. Using the `lookup_users` function, pull the user objects for your followers. These requests are limited to 900 per 15 minutes, but you can request 100 users at a time. At 90,000 users per 15 minutes, the rate limiter on pulls might be bandwidth rather than API limits. \n",
    "\n",
    "Extract the following fields from the user object: \n",
    "\n",
    "* screen_name\t\n",
    "* name\t\n",
    "* id\t\n",
    "* location\t\n",
    "* followers_count\t\n",
    "* friends_count\t\n",
    "* description\n",
    "\n",
    "These can all be accessed via these names in the object. Store the fields with one user per row in a tab-delimited text file with the name `[artist name]_follower_data.txt`. For instance, for Cher I would create a file named `cher_follower_data.txt`. \n"
   ]
  },
  {
   "cell_type": "code",
   "execution_count": 245,
   "id": "ccef77cc",
   "metadata": {},
   "outputs": [],
   "source": [
    "def chunks(lst, n):\n",
    "    \"\"\"Yield successive n-sized chunks from lst.\"\"\"\n",
    "    for i in range(0, len(lst), n):\n",
    "        yield lst[i:i + n]"
   ]
  },
  {
   "cell_type": "code",
   "execution_count": 246,
   "id": "26e90bf7",
   "metadata": {},
   "outputs": [],
   "source": [
    "#use the chunks method to split the followers of artist 1 into batches of 100.\n",
    "mt_temp = mt[0]\n",
    "mt_100 = list(chunks(mt_temp, 100))"
   ]
  },
  {
   "cell_type": "code",
   "execution_count": 258,
   "id": "47483481",
   "metadata": {},
   "outputs": [],
   "source": [
    "#use the chunks method to split the followers of artist 2 into batches of 100.\n",
    "nwtb_temp = nwtb[0]\n",
    "nwtb_100 = list(chunks(nwtb_temp, 100))"
   ]
  },
  {
   "cell_type": "code",
   "execution_count": 260,
   "id": "f6dd1120",
   "metadata": {},
   "outputs": [
    {
     "name": "stdout",
     "output_type": "stream",
     "text": [
      "3089.0448491573334\n"
     ]
    }
   ],
   "source": [
    "# in this cell, do the following\n",
    "\n",
    "# 1. Set up a data frame or dictionary to hold the user information\n",
    "# 2. Use the `lookup_users` api function to pull sets of 100 users at a time\n",
    "start = time.time()\n",
    "\n",
    "mt_followers = []\n",
    "nwtb_followers = []\n",
    "\n",
    "for i in range(0,900):\n",
    "    for users in api.lookup_users(user_id=mt_100[i]):\n",
    "        mt_followers.append(users)\n",
    "for i in range(900,1800):\n",
    "    for users in api.lookup_users(user_id=mt_100[i]):\n",
    "        mt_followers.append(users)\n",
    "for i in range(1800, len(mt_100)):\n",
    "    for users in api.lookup_users(user_id=mt_100[i]):\n",
    "        mt_followers.append(users)\n",
    "\n",
    "for i in range(0,900):\n",
    "    for users in api.lookup_users(user_id=nwtb_100[i]):\n",
    "        nwtb_followers.append(users)\n",
    "for i in range(900,1800):\n",
    "    for users in api.lookup_users(user_id=nwtb_100[i]):\n",
    "        nwtb_followers.append(users)\n",
    "for i in range(1800, len(nwtb_100)):\n",
    "    for users in api.lookup_users(user_id=nwtb_100[i]):\n",
    "        nwtb_followers.append(users)\n",
    "\n",
    "print(time.time() - start)"
   ]
  },
  {
   "cell_type": "code",
   "execution_count": 304,
   "id": "9162ae5b",
   "metadata": {},
   "outputs": [],
   "source": [
    "# 3. Store the listed fields in your data frame or dictionary.\n",
    "# 4. Write the user information in tab-delimited form to the follower data text file.\n",
    "\n",
    "#create a dataframe storing the user information for marianas trench\n",
    "mt_df = pd.DataFrame(data=[(user.screen_name, user.name, user.id, user.location,\n",
    "                          user.followers_count, user.friends_count, user.description) for user in mt_followers],\n",
    "                    columns=['Screen Name', 'Name', 'ID', 'Location', 'Follower Count', 'Friend Count', 'Description'])\n",
    "\n",
    "#create a dataframe storing the user information for nate wants to battle\n",
    "nwtb_df = pd.DataFrame(data=[(user.screen_name, user.name, user.id, user.location,\n",
    "                          user.followers_count, user.friends_count, user.description) for user in nwtb_followers],\n",
    "                    columns=['Screen Name', 'Name', 'ID', 'Location', 'Follower Count', 'Friend Count', 'Description'])\n",
    "\n",
    "dataframes = {\"mtrench\": mt_df, \"NateWantsToBtl\": nwtb_df}\n",
    "\n",
    "for artist, df in dataframes.items() :\n",
    "    output_follower_file = artist + \"_followers_data.txt\"\n",
    "    completeFFName=os.path.join(basepath+directory, output_follower_file)\n",
    "    df.to_csv(completeFFName)"
   ]
  },
  {
   "cell_type": "markdown",
   "id": "18309057",
   "metadata": {},
   "source": [
    "One note: the user's description can have tabs or returns in it, so make sure to clean those out of the description before writing them to the file. Here's an example of how you might do this. "
   ]
  },
  {
   "cell_type": "code",
   "execution_count": null,
   "id": "2311694f",
   "metadata": {},
   "outputs": [],
   "source": [
    "tricky_description = \"\"\"\n",
    "    Home by Warsan Shire\n",
    "    \n",
    "    no one leaves home unless\n",
    "    home is the mouth of a shark.\n",
    "    you only run for the border\n",
    "    when you see the whole city\n",
    "    running as well.\n",
    "\n",
    "\"\"\"\n",
    "# This won't work in a tab-delimited text file.\n",
    "\n",
    "clean_description = re.sub(r\"\\s+\",\" \",tricky_description)\n",
    "clean_description"
   ]
  },
  {
   "cell_type": "markdown",
   "id": "45c13af3",
   "metadata": {},
   "source": [
    "---\n",
    "\n",
    "# Lyrics Scrape\n",
    "\n",
    "This section asks you to pull data from the Twitter API and scrape www.AZLyrics.com. In the notebooks where you do that work you are asked to store the data in specific ways. "
   ]
  },
  {
   "cell_type": "code",
   "execution_count": 72,
   "id": "5bd7df77",
   "metadata": {},
   "outputs": [],
   "source": [
    "artists = {'marianas trench':\"https://www.azlyrics.com/m/marianastrench.html\",\n",
    "           'nate wants to battle':\"https://www.azlyrics.com/n/natewantstobattle.html\"}\n",
    "base_url = 'https://www.azlyrics.com'\n",
    "# we'll use this dictionary to hold both the artist name and the link on AZlyrics"
   ]
  },
  {
   "cell_type": "markdown",
   "id": "c236c99b",
   "metadata": {},
   "source": [
    "## A Note on Rate Limiting\n",
    "\n",
    "The lyrics site, www.azlyrics.com, does not have an explicit maximum on number of requests in any one time, but in our testing it appears that too many requests in too short a time will cause the site to stop returning lyrics pages. (Entertainingly, the page that gets returned seems to only have the song title to [a Tom Jones song](https://www.azlyrics.com/lyrics/tomjones/itsnotunusual.html).) \n",
    "\n",
    "Whenever you call `requests.get` to retrieve a page, put a `time.sleep(5 + 10*random.random())` on the next line. This will help you not to get blocked. If you _do_ get blocked, which you can identify if the returned pages are not correct, just request a lyrics page through your browser. You'll be asked to perform a CAPTCHA and then your requests should start working again. \n",
    "\n",
    "## Part 1: Finding Links to Songs Lyrics\n",
    "\n",
    "That general artist page has a list of all songs for that artist with links to the individual song pages. \n",
    "\n",
    "Q: Take a look at the `robots.txt` page on www.azlyrics.com. (You can read more about these pages [here](https://developers.google.com/search/docs/advanced/robots/intro).) Is the scraping we are about to do allowed or disallowed by this page? How do you know? \n",
    "\n",
    "A: <!-- Delete this comment and put your answer here. --> The scraping is allowed since we are interested in the lyrics.  We are not allowed to scrape the lyricsdb.\n"
   ]
  },
  {
   "cell_type": "code",
   "execution_count": null,
   "id": "ccb53f04",
   "metadata": {},
   "outputs": [],
   "source": [
    "#define a method to add key/value pairs to dictionary\n",
    "def add_values_in_dict(sample_dict, key, list_of_values):\n",
    "    ''' Append multiple values to a key in \n",
    "        the given dictionary '''\n",
    "    if key not in sample_dict:\n",
    "        sample_dict[key] = list()\n",
    "    sample_dict[key].extend(list_of_values)\n",
    "    return sample_dict"
   ]
  },
  {
   "cell_type": "code",
   "execution_count": 103,
   "id": "ac9d31ec",
   "metadata": {},
   "outputs": [],
   "source": [
    "# Let's set up a dictionary of lists to hold our links\n",
    "lyrics_pages = defaultdict(list)\n",
    "\n",
    "for artist, artist_page in artists.items() :\n",
    "    # request the page and sleep\n",
    "    r = requests.get(artist_page)\n",
    "    time.sleep(5 + 10*random.random())\n",
    "\n",
    "    # now extract the links to lyrics pages from this page\n",
    "    # store the links `lyrics_pages` where the key is the artist and the\n",
    "    # value is a list of links.\n",
    "    soup = BeautifulSoup(r.text, \"html.parser\")\n",
    "    #create a temporary list to story links\n",
    "    temp_list = []\n",
    "    #extract the links and append them to the temp_list array\n",
    "    for link in soup.find_all('a', href=re.compile('^/lyrics/')):\n",
    "        temp_list.append(base_url + link.get('href'))\n",
    "    \n",
    "    #use the user-defined method to add the key/value pairs to lyrics_pages\n",
    "    add_values_in_dict(lyrics_pages, artist, temp_list)"
   ]
  },
  {
   "cell_type": "markdown",
   "id": "9c285ec1",
   "metadata": {},
   "source": [
    "Let's make sure we have enough lyrics pages to scrape. "
   ]
  },
  {
   "cell_type": "code",
   "execution_count": 129,
   "id": "ae4cda68",
   "metadata": {},
   "outputs": [],
   "source": [
    "for artist, lp in lyrics_pages.items() :\n",
    "    assert(len(set(lp)) > 20)"
   ]
  },
  {
   "cell_type": "code",
   "execution_count": 130,
   "id": "edca10d6",
   "metadata": {},
   "outputs": [
    {
     "name": "stdout",
     "output_type": "stream",
     "text": [
      "For marianas trench we have 76.\n",
      "The full pull will take for this artist will take 0.21 hours.\n",
      "For nate wants to battle we have 324.\n",
      "The full pull will take for this artist will take 0.9 hours.\n"
     ]
    }
   ],
   "source": [
    "# Let's see how long it's going to take to pull these lyrics \n",
    "# if we're waiting `5 + 10*random.random()` seconds \n",
    "for artist, links in lyrics_pages.items() : \n",
    "    print(f\"For {artist} we have {len(links)}.\")\n",
    "    print(f\"The full pull will take for this artist will take {round(len(links)*10/3600,2)} hours.\")"
   ]
  },
  {
   "cell_type": "markdown",
   "id": "011be6c6",
   "metadata": {},
   "source": [
    "## Part 2: Pulling Lyrics\n",
    "\n",
    "Now that we have the links to our lyrics pages, let's go scrape them! Here are the steps for this part. \n",
    "\n",
    "1. Create an empty folder in our repo called \"lyrics\". \n",
    "1. Iterate over the artists in `lyrics_pages`. \n",
    "1. Create a subfolder in lyrics with the artist's name. For instance, if the artist was Cher you'd have `lyrics/cher/` in your repo.\n",
    "1. Iterate over the pages. \n",
    "1. Request the page and extract the lyrics from the returned HTML file using BeautifulSoup.\n",
    "1. Use the function below, `generate_filename_from_url`, to create a filename based on the lyrics page, then write the lyrics to a text file with that name. \n"
   ]
  },
  {
   "cell_type": "code",
   "execution_count": 179,
   "id": "67693711",
   "metadata": {},
   "outputs": [],
   "source": [
    "def generate_filename_from_link(link) :\n",
    "    \n",
    "    if not link :\n",
    "        return None\n",
    "    \n",
    "    # drop the http or https and the html\n",
    "    name = link.replace(\"https\",\"\").replace(\"http\",\"\")\n",
    "    name = link.replace(\".html\",\"\")\n",
    "\n",
    "    name = name.replace(\"/lyrics/\",\"\")\n",
    "    \n",
    "    # Replace useless chareacters with UNDERSCORE\n",
    "    name = name.replace(\"://\",\"\").replace(\".\",\"_\").replace(\"/\",\"_\")\n",
    "    \n",
    "    # tack on .txt\n",
    "    name = name + \".txt\"\n",
    "    \n",
    "    return(name)\n"
   ]
  },
  {
   "cell_type": "code",
   "execution_count": 175,
   "id": "94a78c78",
   "metadata": {},
   "outputs": [],
   "source": [
    "# Make the lyrics folder here. If you'd like to practice your programming, add functionality \n",
    "# that checks to see if the folder exists. If it does, then use shutil.rmtree to remove it and create a new one.\n",
    "\n",
    "if not os.path.isdir(\"lyrics\") : \n",
    "    #shutil.rmtree(\"lyrics/\")\n",
    "    os.mkdir(\"lyrics\")"
   ]
  },
  {
   "cell_type": "code",
   "execution_count": 193,
   "id": "6d0c9519",
   "metadata": {},
   "outputs": [],
   "source": [
    "#Set the root directory to the new lyrics folder created\n",
    "\n",
    "root=os.getcwd()\n",
    "new_directory='lyrics'\n",
    "\n",
    "lyricspath=os.path.join(root, new_directory)"
   ]
  },
  {
   "cell_type": "code",
   "execution_count": 226,
   "id": "d655b687",
   "metadata": {},
   "outputs": [],
   "source": [
    "url_stub = \"https://www.azlyrics.com\" \n",
    "start = time.time()\n",
    "\n",
    "total_pages = 0 \n",
    "\n",
    "for artist in lyrics_pages :\n",
    "    # Use this space to carry out the following steps: \n",
    "    \n",
    "    # 1. Build a subfolder for the artist\n",
    "    # 2. Iterate over the lyrics pages\n",
    "    # 3. Request the lyrics page. \n",
    "        # Don't forget to add a line like `time.sleep(5 + 10*random.random())`\n",
    "        # to sleep after making the request\n",
    "    # 4. Extract the title and lyrics from the page.\n",
    "    # 5. Write out the title, two returns ('\\n'), and the lyrics. Use `generate_filename_from_url`\n",
    "    #    to generate the filename. \n",
    "    \n",
    "    # Remember to pull at least 20 songs per artist. It may be fun to pull all the songs for the artist\n",
    "    for link in lyrics_pages[artist] :\n",
    "        #generate the file name for later use\n",
    "        output_lyric_file = generate_filename_from_link(link)\n",
    "        \n",
    "        # Pull and store the title and lyrics after submitting the request\n",
    "        sl = requests.get(link)\n",
    "        time.sleep(5 + 10*random.random())\n",
    "    \n",
    "        #beautify the response\n",
    "        souplyric = BeautifulSoup(sl.text, \"html.parser\")\n",
    "    \n",
    "        #save the title and lyrics to an object\n",
    "        title = souplyric.find('div' , class_ = 'col-xs-12 col-lg-8 text-center').find_all('div',class_= 'div-share')[1].text.split('\"')[1]\n",
    "        lyrics = souplyric.find('div' , class_ = 'col-xs-12 col-lg-8 text-center').find_all('div')[5].text\n",
    "    \n",
    "        #create the artist folder if it doesn't exist and cwd to new folder\n",
    "        if os.getcwd() != lyricspath:\n",
    "            os.chdir(lyricspath)\n",
    "            \n",
    "        if not os.path.isdir(artist) : \n",
    "            #shutil.rmtree(\"lyrics/\")\n",
    "            os.mkdir(artist)\n",
    "        newpath = os.path.join(lyricspath, artist)\n",
    "\n",
    "        # Write the Title and Lyrics to the output file in the `lyrics/artist` folder.\n",
    "        finalName=os.path.join(newpath, output_lyric_file)\n",
    "        f = open(finalName, \"w\", encoding=\"UTF-8\")\n",
    "        f.write(title + lyrics)\n",
    "        f.close()\n",
    "    \n",
    "        #increment the total_pages counter\n",
    "        total_pages+=1"
   ]
  },
  {
   "cell_type": "code",
   "execution_count": 227,
   "id": "36c394f1",
   "metadata": {},
   "outputs": [
    {
     "name": "stdout",
     "output_type": "stream",
     "text": [
      "Total run time was 1.17 hours.\n"
     ]
    }
   ],
   "source": [
    "print(f\"Total run time was {round((time.time() - start)/3600,2)} hours.\")"
   ]
  },
  {
   "cell_type": "markdown",
   "id": "054cf14b",
   "metadata": {},
   "source": [
    "---\n",
    "\n",
    "# Evaluation\n",
    "\n",
    "This assignment asks you to pull data from the Twitter API and scrape www.AZLyrics.com.  After you have finished the above sections , run all the cells in this notebook. Print this to PDF and submit it, per the instructions."
   ]
  },
  {
   "cell_type": "code",
   "execution_count": 290,
   "id": "217c2b0a",
   "metadata": {},
   "outputs": [],
   "source": [
    "# Simple word extractor from Peter Norvig: https://norvig.com/spell-correct.html\n",
    "def words(text): \n",
    "    return re.findall(r'\\w+', text.lower())"
   ]
  },
  {
   "cell_type": "markdown",
   "id": "9290b4c3",
   "metadata": {},
   "source": [
    "---\n",
    "\n",
    "## Checking Twitter Data\n",
    "\n",
    "The output from your Twitter API pull should be two files per artist, stored in files with formats like `cher_followers.txt` (a list of all follower IDs you pulled) and `cher_followers_data.txt`. These files should be in a folder named `twitter` within the repository directory. This code summarizes the information at a high level to help the instructor evaluate your work. "
   ]
  },
  {
   "cell_type": "code",
   "execution_count": 300,
   "id": "d2174c46",
   "metadata": {},
   "outputs": [
    {
     "name": "stdout",
     "output_type": "stream",
     "text": [
      "We see two artist handles: mtrench and NateWantsToBtl.\n"
     ]
    }
   ],
   "source": [
    "twitter_files = os.listdir(\"twitter\")\n",
    "twitter_files = [f for f in twitter_files if f != \".DS_Store\"]\n",
    "artist_handles = list(set([name.split(\"_\")[0] for name in twitter_files]))\n",
    "\n",
    "print(f\"We see two artist handles: {artist_handles[0]} and {artist_handles[3]}.\")"
   ]
  },
  {
   "cell_type": "code",
   "execution_count": 305,
   "id": "7ad545be",
   "metadata": {},
   "outputs": [
    {
     "name": "stdout",
     "output_type": "stream",
     "text": [
      "We see 0 in your follower file for mtrench, assuming a header row.\n"
     ]
    },
    {
     "ename": "UnicodeDecodeError",
     "evalue": "'charmap' codec can't decode byte 0x8d in position 262: character maps to <undefined>",
     "output_type": "error",
     "traceback": [
      "\u001b[1;31m---------------------------------------------------------------------------\u001b[0m",
      "\u001b[1;31mUnicodeDecodeError\u001b[0m                        Traceback (most recent call last)",
      "Input \u001b[1;32mIn [305]\u001b[0m, in \u001b[0;36m<cell line: 1>\u001b[1;34m()\u001b[0m\n\u001b[0;32m      7\u001b[0m \u001b[38;5;28mprint\u001b[39m(\u001b[38;5;124mf\u001b[39m\u001b[38;5;124m\"\u001b[39m\u001b[38;5;124mWe see \u001b[39m\u001b[38;5;132;01m{\u001b[39;00m\u001b[38;5;28mlen\u001b[39m(ids)\u001b[38;5;241m-\u001b[39m\u001b[38;5;241m1\u001b[39m\u001b[38;5;132;01m}\u001b[39;00m\u001b[38;5;124m in your follower file for \u001b[39m\u001b[38;5;132;01m{\u001b[39;00martist\u001b[38;5;132;01m}\u001b[39;00m\u001b[38;5;124m, assuming a header row.\u001b[39m\u001b[38;5;124m\"\u001b[39m)\n\u001b[0;32m      9\u001b[0m \u001b[38;5;28;01mwith\u001b[39;00m \u001b[38;5;28mopen\u001b[39m(\u001b[38;5;124m\"\u001b[39m\u001b[38;5;124mtwitter/\u001b[39m\u001b[38;5;124m\"\u001b[39m \u001b[38;5;241m+\u001b[39m follower_data_file,\u001b[38;5;124m'\u001b[39m\u001b[38;5;124mr\u001b[39m\u001b[38;5;124m'\u001b[39m) \u001b[38;5;28;01mas\u001b[39;00m infile :\n\u001b[0;32m     10\u001b[0m     \n\u001b[0;32m     11\u001b[0m     \u001b[38;5;66;03m# check the headers\u001b[39;00m\n\u001b[1;32m---> 12\u001b[0m     headers \u001b[38;5;241m=\u001b[39m \u001b[43minfile\u001b[49m\u001b[38;5;241;43m.\u001b[39;49m\u001b[43mreadline\u001b[49m\u001b[43m(\u001b[49m\u001b[43m)\u001b[49m\u001b[38;5;241m.\u001b[39msplit(\u001b[38;5;124m\"\u001b[39m\u001b[38;5;130;01m\\t\u001b[39;00m\u001b[38;5;124m\"\u001b[39m)\n\u001b[0;32m     14\u001b[0m     \u001b[38;5;28mprint\u001b[39m(\u001b[38;5;124mf\u001b[39m\u001b[38;5;124m\"\u001b[39m\u001b[38;5;124mIn the follower data file (\u001b[39m\u001b[38;5;132;01m{\u001b[39;00mfollower_data_file\u001b[38;5;132;01m}\u001b[39;00m\u001b[38;5;124m) for \u001b[39m\u001b[38;5;132;01m{\u001b[39;00martist\u001b[38;5;132;01m}\u001b[39;00m\u001b[38;5;124m, we have these columns:\u001b[39m\u001b[38;5;124m\"\u001b[39m)\n\u001b[0;32m     15\u001b[0m     \u001b[38;5;28mprint\u001b[39m(\u001b[38;5;124m\"\u001b[39m\u001b[38;5;124m : \u001b[39m\u001b[38;5;124m\"\u001b[39m\u001b[38;5;241m.\u001b[39mjoin(headers))\n",
      "File \u001b[1;32m~\\anaconda3\\envs\\my-env-for-ads509\\lib\\encodings\\cp1252.py:23\u001b[0m, in \u001b[0;36mIncrementalDecoder.decode\u001b[1;34m(self, input, final)\u001b[0m\n\u001b[0;32m     22\u001b[0m \u001b[38;5;28;01mdef\u001b[39;00m \u001b[38;5;21mdecode\u001b[39m(\u001b[38;5;28mself\u001b[39m, \u001b[38;5;28minput\u001b[39m, final\u001b[38;5;241m=\u001b[39m\u001b[38;5;28;01mFalse\u001b[39;00m):\n\u001b[1;32m---> 23\u001b[0m     \u001b[38;5;28;01mreturn\u001b[39;00m \u001b[43mcodecs\u001b[49m\u001b[38;5;241;43m.\u001b[39;49m\u001b[43mcharmap_decode\u001b[49m\u001b[43m(\u001b[49m\u001b[38;5;28;43minput\u001b[39;49m\u001b[43m,\u001b[49m\u001b[38;5;28;43mself\u001b[39;49m\u001b[38;5;241;43m.\u001b[39;49m\u001b[43merrors\u001b[49m\u001b[43m,\u001b[49m\u001b[43mdecoding_table\u001b[49m\u001b[43m)\u001b[49m[\u001b[38;5;241m0\u001b[39m]\n",
      "\u001b[1;31mUnicodeDecodeError\u001b[0m: 'charmap' codec can't decode byte 0x8d in position 262: character maps to <undefined>"
     ]
    }
   ],
   "source": [
    "for artist in artist_handles :\n",
    "    follower_file = artist + \"_followers.txt\"\n",
    "    follower_data_file = artist + \"_followers_data.txt\"\n",
    "    \n",
    "    ids = open(\"twitter/\" + follower_file,'r').readlines()\n",
    "    \n",
    "    print(f\"We see {len(ids)-1} in your follower file for {artist}, assuming a header row.\")\n",
    "    \n",
    "    with open(\"twitter/\" + follower_data_file,'r') as infile :\n",
    "        \n",
    "        # check the headers\n",
    "        headers = infile.readline().split(\"\\t\")\n",
    "        \n",
    "        print(f\"In the follower data file ({follower_data_file}) for {artist}, we have these columns:\")\n",
    "        print(\" : \".join(headers))\n",
    "        \n",
    "        description_words = []\n",
    "        locations = set()\n",
    "        \n",
    "        \n",
    "        for idx, line in enumerate(infile.readlines()) :\n",
    "            line = line.strip(\"\\n\").split(\"\\t\")\n",
    "            \n",
    "            try : \n",
    "                locations.add(line[3])            \n",
    "                description_words.extend(words(line[6]))\n",
    "            except :\n",
    "                pass\n",
    "    \n",
    "        \n",
    "\n",
    "        print(f\"We have {idx+1} data rows for {artist} in the follower data file.\")\n",
    "\n",
    "        print(f\"For {artist} we have {len(locations)} unique locations.\")\n",
    "\n",
    "        print(f\"For {artist} we have {len(description_words)} words in the descriptions.\")\n",
    "        print(\"Here are the five most common words:\")\n",
    "        print(Counter(description_words).most_common(5))\n",
    "\n",
    "        \n",
    "        print(\"\")\n",
    "        print(\"-\"*40)\n",
    "        print(\"\")\n",
    "    "
   ]
  },
  {
   "cell_type": "markdown",
   "id": "37778a1c",
   "metadata": {},
   "source": [
    "## Checking Lyrics \n",
    "\n",
    "The output from your lyrics scrape should be stored in files located in this path from the directory:\n",
    "`/lyrics/[Artist Name]/[filename from URL]`. This code summarizes the information at a high level to help the instructor evaluate your work. "
   ]
  },
  {
   "cell_type": "code",
   "execution_count": 306,
   "id": "bccac29c",
   "metadata": {},
   "outputs": [
    {
     "name": "stdout",
     "output_type": "stream",
     "text": [
      "For marianas trench we have 71 files.\n",
      "For marianas trench we have roughly 26064 words, 1683 are unique.\n",
      "For nate wants to battle we have 314 files.\n",
      "For nate wants to battle we have roughly 97094 words, 4866 are unique.\n"
     ]
    }
   ],
   "source": [
    "artist_folders = os.listdir(\"lyrics/\")\n",
    "artist_folders = [f for f in artist_folders if os.path.isdir(\"lyrics/\" + f)]\n",
    "\n",
    "for artist in artist_folders : \n",
    "    artist_files = os.listdir(\"lyrics/\" + artist)\n",
    "    artist_files = [f for f in artist_files if 'txt' in f or 'csv' in f or 'tsv' in f]\n",
    "\n",
    "    print(f\"For {artist} we have {len(artist_files)} files.\")\n",
    "\n",
    "    artist_words = []\n",
    "\n",
    "    for f_name in artist_files : \n",
    "        with open(\"lyrics/\" + artist + \"/\" + f_name) as infile : \n",
    "            artist_words.extend(words(infile.read()))\n",
    "\n",
    "            \n",
    "    print(f\"For {artist} we have roughly {len(artist_words)} words, {len(set(artist_words))} are unique.\")\n"
   ]
  },
  {
   "cell_type": "code",
   "execution_count": null,
   "id": "4012e621",
   "metadata": {},
   "outputs": [],
   "source": []
  }
 ],
 "metadata": {
  "kernelspec": {
   "display_name": "Python 3 (ipykernel)",
   "language": "python",
   "name": "python3"
  },
  "language_info": {
   "codemirror_mode": {
    "name": "ipython",
    "version": 3
   },
   "file_extension": ".py",
   "mimetype": "text/x-python",
   "name": "python",
   "nbconvert_exporter": "python",
   "pygments_lexer": "ipython3",
   "version": "3.9.12"
  }
 },
 "nbformat": 4,
 "nbformat_minor": 5
}
